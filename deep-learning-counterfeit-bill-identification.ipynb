{
 "cells": [
  {
   "cell_type": "code",
   "execution_count": 1,
   "id": "592a69ae",
   "metadata": {
    "_cell_guid": "b1076dfc-b9ad-4769-8c92-a6c4dae69d19",
    "_uuid": "8f2839f25d086af736a60e9eeb907d3b93b6e0e5",
    "execution": {
     "iopub.execute_input": "2023-02-27T16:39:53.660064Z",
     "iopub.status.busy": "2023-02-27T16:39:53.659277Z",
     "iopub.status.idle": "2023-02-27T16:39:53.681364Z",
     "shell.execute_reply": "2023-02-27T16:39:53.680004Z"
    },
    "papermill": {
     "duration": 0.030734,
     "end_time": "2023-02-27T16:39:53.683923",
     "exception": false,
     "start_time": "2023-02-27T16:39:53.653189",
     "status": "completed"
    },
    "tags": []
   },
   "outputs": [
    {
     "name": "stdout",
     "output_type": "stream",
     "text": [
      "/kaggle/input/fake-bills/fake_bills.csv\n"
     ]
    }
   ],
   "source": [
    "# This Python 3 environment comes with many helpful analytics libraries installed\n",
    "# It is defined by the kaggle/python Docker image: https://github.com/kaggle/docker-python\n",
    "# For example, here's several helpful packages to load\n",
    "\n",
    "import numpy as np # linear algebra\n",
    "import pandas as pd # data processing, CSV file I/O (e.g. pd.read_csv)\n",
    "\n",
    "# Input data files are available in the read-only \"../input/\" directory\n",
    "# For example, running this (by clicking run or pressing Shift+Enter) will list all files under the input directory\n",
    "\n",
    "import os\n",
    "for dirname, _, filenames in os.walk('/kaggle/input'):\n",
    "    for filename in filenames:\n",
    "        print(os.path.join(dirname, filename))\n",
    "\n",
    "# You can write up to 20GB to the current directory (/kaggle/working/) that gets preserved as output when you create a version using \"Save & Run All\" \n",
    "# You can also write temporary files to /kaggle/temp/, but they won't be saved outside of the current session"
   ]
  },
  {
   "cell_type": "code",
   "execution_count": 2,
   "id": "80803844",
   "metadata": {
    "execution": {
     "iopub.execute_input": "2023-02-27T16:39:53.692256Z",
     "iopub.status.busy": "2023-02-27T16:39:53.691564Z",
     "iopub.status.idle": "2023-02-27T16:39:53.737800Z",
     "shell.execute_reply": "2023-02-27T16:39:53.736437Z"
    },
    "papermill": {
     "duration": 0.052941,
     "end_time": "2023-02-27T16:39:53.740338",
     "exception": false,
     "start_time": "2023-02-27T16:39:53.687397",
     "status": "completed"
    },
    "tags": []
   },
   "outputs": [
    {
     "name": "stdout",
     "output_type": "stream",
     "text": [
      "<class 'pandas.core.frame.DataFrame'>\n",
      "Int64Index: 1463 entries, 0 to 1499\n",
      "Data columns (total 7 columns):\n",
      " #   Column        Non-Null Count  Dtype  \n",
      "---  ------        --------------  -----  \n",
      " 0   is_genuine    1463 non-null   bool   \n",
      " 1   diagonal      1463 non-null   float64\n",
      " 2   height_left   1463 non-null   float64\n",
      " 3   height_right  1463 non-null   float64\n",
      " 4   margin_low    1463 non-null   float64\n",
      " 5   margin_up     1463 non-null   float64\n",
      " 6   length        1463 non-null   float64\n",
      "dtypes: bool(1), float64(6)\n",
      "memory usage: 81.4 KB\n"
     ]
    }
   ],
   "source": [
    "df = pd.read_csv(\"/kaggle/input/fake-bills/fake_bills.csv\", delimiter=';')\n",
    "df.isnull().sum()\n",
    "#Using two different dataframes to see which provides the best model for ML\n",
    "df_with_mean_input = df.fillna(df.mean())\n",
    "df_with_mean_input.isnull().sum()\n",
    "df_dropped = df.dropna()\n",
    "df_dropped.info()"
   ]
  },
  {
   "cell_type": "code",
   "execution_count": 3,
   "id": "a46f7a55",
   "metadata": {
    "execution": {
     "iopub.execute_input": "2023-02-27T16:39:53.749186Z",
     "iopub.status.busy": "2023-02-27T16:39:53.748747Z",
     "iopub.status.idle": "2023-02-27T16:39:53.765355Z",
     "shell.execute_reply": "2023-02-27T16:39:53.764070Z"
    },
    "papermill": {
     "duration": 0.024046,
     "end_time": "2023-02-27T16:39:53.767771",
     "exception": false,
     "start_time": "2023-02-27T16:39:53.743725",
     "status": "completed"
    },
    "tags": []
   },
   "outputs": [
    {
     "name": "stdout",
     "output_type": "stream",
     "text": [
      "<class 'pandas.core.frame.DataFrame'>\n",
      "RangeIndex: 1500 entries, 0 to 1499\n",
      "Data columns (total 6 columns):\n",
      " #   Column        Non-Null Count  Dtype  \n",
      "---  ------        --------------  -----  \n",
      " 0   diagonal      1500 non-null   float64\n",
      " 1   height_left   1500 non-null   float64\n",
      " 2   height_right  1500 non-null   float64\n",
      " 3   margin_low    1500 non-null   float64\n",
      " 4   margin_up     1500 non-null   float64\n",
      " 5   length        1500 non-null   float64\n",
      "dtypes: float64(6)\n",
      "memory usage: 70.4 KB\n"
     ]
    }
   ],
   "source": [
    "# Preparing data for ML\n",
    "y_mean = df_with_mean_input['is_genuine']\n",
    "#print(y_mean)\n",
    "X_mean = df_with_mean_input.drop(columns = 'is_genuine')\n",
    "X_mean.info()\n",
    "\n",
    "y_dropped = df_dropped['is_genuine']\n",
    "X_dropped = df_dropped.drop(columns = 'is_genuine')"
   ]
  },
  {
   "cell_type": "code",
   "execution_count": 4,
   "id": "981fd13b",
   "metadata": {
    "execution": {
     "iopub.execute_input": "2023-02-27T16:39:53.776897Z",
     "iopub.status.busy": "2023-02-27T16:39:53.775770Z",
     "iopub.status.idle": "2023-02-27T16:40:01.994915Z",
     "shell.execute_reply": "2023-02-27T16:40:01.993508Z"
    },
    "papermill": {
     "duration": 8.226473,
     "end_time": "2023-02-27T16:40:01.997741",
     "exception": false,
     "start_time": "2023-02-27T16:39:53.771268",
     "status": "completed"
    },
    "tags": []
   },
   "outputs": [],
   "source": [
    "from sklearn.model_selection import train_test_split\n",
    "from sklearn.metrics import mean_squared_error\n",
    "from math import sqrt\n",
    "\n",
    "from keras.models import Sequential\n",
    "from keras.layers import Dense\n",
    "from keras.utils import to_categorical"
   ]
  },
  {
   "cell_type": "code",
   "execution_count": 5,
   "id": "5072cbf8",
   "metadata": {
    "execution": {
     "iopub.execute_input": "2023-02-27T16:40:02.006766Z",
     "iopub.status.busy": "2023-02-27T16:40:02.005970Z",
     "iopub.status.idle": "2023-02-27T16:40:02.019467Z",
     "shell.execute_reply": "2023-02-27T16:40:02.018477Z"
    },
    "papermill": {
     "duration": 0.020374,
     "end_time": "2023-02-27T16:40:02.021691",
     "exception": false,
     "start_time": "2023-02-27T16:40:02.001317",
     "status": "completed"
    },
    "tags": []
   },
   "outputs": [
    {
     "name": "stdout",
     "output_type": "stream",
     "text": [
      "(1050, 6)\n",
      "(450, 6)\n"
     ]
    }
   ],
   "source": [
    "# Creating train/test values for both the mean dataset and the dropped dataset\n",
    "X_train_mean, X_test_mean, y_train_mean, y_test_mean = train_test_split(X_mean, y_mean, test_size=0.3, random_state=42)\n",
    "X_train_dropped, X_test_dropped, y_train_dropped, y_test_dropped = train_test_split(X_dropped, y_dropped, test_size = 0.2, random_state = 42)\n",
    "print(X_train_mean.shape) ; print(X_test_mean.shape)"
   ]
  },
  {
   "cell_type": "code",
   "execution_count": 6,
   "id": "722bcd39",
   "metadata": {
    "execution": {
     "iopub.execute_input": "2023-02-27T16:40:02.030117Z",
     "iopub.status.busy": "2023-02-27T16:40:02.029753Z",
     "iopub.status.idle": "2023-02-27T16:40:07.864954Z",
     "shell.execute_reply": "2023-02-27T16:40:07.863650Z"
    },
    "papermill": {
     "duration": 5.84223,
     "end_time": "2023-02-27T16:40:07.867525",
     "exception": false,
     "start_time": "2023-02-27T16:40:02.025295",
     "status": "completed"
    },
    "tags": []
   },
   "outputs": [
    {
     "name": "stdout",
     "output_type": "stream",
     "text": [
      "Epoch 1/50\n",
      "33/33 [==============================] - 1s 3ms/step - loss: 2.5462 - accuracy: 0.5457\n",
      "Epoch 2/50\n",
      "33/33 [==============================] - 0s 3ms/step - loss: 0.7104 - accuracy: 0.6295\n",
      "Epoch 3/50\n",
      "33/33 [==============================] - 0s 2ms/step - loss: 0.6764 - accuracy: 0.6067\n",
      "Epoch 4/50\n",
      "33/33 [==============================] - 0s 3ms/step - loss: 0.6418 - accuracy: 0.6448\n",
      "Epoch 5/50\n",
      "33/33 [==============================] - 0s 2ms/step - loss: 0.7900 - accuracy: 0.6048\n",
      "Epoch 6/50\n",
      "33/33 [==============================] - 0s 3ms/step - loss: 0.6743 - accuracy: 0.6467\n",
      "Epoch 7/50\n",
      "33/33 [==============================] - 0s 2ms/step - loss: 0.7062 - accuracy: 0.6448\n",
      "Epoch 8/50\n",
      "33/33 [==============================] - 0s 2ms/step - loss: 0.5946 - accuracy: 0.7105\n",
      "Epoch 9/50\n",
      "33/33 [==============================] - 0s 2ms/step - loss: 0.5784 - accuracy: 0.6857\n",
      "Epoch 10/50\n",
      "33/33 [==============================] - 0s 2ms/step - loss: 0.5888 - accuracy: 0.7029\n",
      "Epoch 11/50\n",
      "33/33 [==============================] - 0s 2ms/step - loss: 0.5209 - accuracy: 0.7590\n",
      "Epoch 12/50\n",
      "33/33 [==============================] - 0s 2ms/step - loss: 0.6239 - accuracy: 0.7152\n",
      "Epoch 13/50\n",
      "33/33 [==============================] - 0s 2ms/step - loss: 0.4848 - accuracy: 0.7895\n",
      "Epoch 14/50\n",
      "33/33 [==============================] - 0s 2ms/step - loss: 0.4941 - accuracy: 0.7410\n",
      "Epoch 15/50\n",
      "33/33 [==============================] - 0s 2ms/step - loss: 0.4610 - accuracy: 0.7686\n",
      "Epoch 16/50\n",
      "33/33 [==============================] - 0s 2ms/step - loss: 0.3978 - accuracy: 0.8514\n",
      "Epoch 17/50\n",
      "33/33 [==============================] - 0s 2ms/step - loss: 0.4119 - accuracy: 0.8276\n",
      "Epoch 18/50\n",
      "33/33 [==============================] - 0s 3ms/step - loss: 0.4188 - accuracy: 0.8143\n",
      "Epoch 19/50\n",
      "33/33 [==============================] - 0s 3ms/step - loss: 0.4973 - accuracy: 0.7600\n",
      "Epoch 20/50\n",
      "33/33 [==============================] - 0s 2ms/step - loss: 0.3259 - accuracy: 0.8924\n",
      "Epoch 21/50\n",
      "33/33 [==============================] - 0s 2ms/step - loss: 0.3088 - accuracy: 0.8952\n",
      "Epoch 22/50\n",
      "33/33 [==============================] - 0s 2ms/step - loss: 0.3330 - accuracy: 0.8743\n",
      "Epoch 23/50\n",
      "33/33 [==============================] - 0s 2ms/step - loss: 0.4281 - accuracy: 0.8019\n",
      "Epoch 24/50\n",
      "33/33 [==============================] - 0s 2ms/step - loss: 0.4922 - accuracy: 0.7610\n",
      "Epoch 25/50\n",
      "33/33 [==============================] - 0s 2ms/step - loss: 0.2817 - accuracy: 0.9057\n",
      "Epoch 26/50\n",
      "33/33 [==============================] - 0s 2ms/step - loss: 0.2292 - accuracy: 0.9352\n",
      "Epoch 27/50\n",
      "33/33 [==============================] - 0s 2ms/step - loss: 0.2535 - accuracy: 0.9048\n",
      "Epoch 28/50\n",
      "33/33 [==============================] - 0s 2ms/step - loss: 0.2507 - accuracy: 0.9124\n",
      "Epoch 29/50\n",
      "33/33 [==============================] - 0s 2ms/step - loss: 0.4956 - accuracy: 0.7990\n",
      "Epoch 30/50\n",
      "33/33 [==============================] - 0s 2ms/step - loss: 0.2766 - accuracy: 0.8886\n",
      "Epoch 31/50\n",
      "33/33 [==============================] - 0s 2ms/step - loss: 0.3139 - accuracy: 0.8695\n",
      "Epoch 32/50\n",
      "33/33 [==============================] - 0s 2ms/step - loss: 0.2695 - accuracy: 0.8876\n",
      "Epoch 33/50\n",
      "33/33 [==============================] - 0s 2ms/step - loss: 0.1679 - accuracy: 0.9533\n",
      "Epoch 34/50\n",
      "33/33 [==============================] - 0s 2ms/step - loss: 0.1545 - accuracy: 0.9638\n",
      "Epoch 35/50\n",
      "33/33 [==============================] - 0s 2ms/step - loss: 0.2250 - accuracy: 0.9048\n",
      "Epoch 36/50\n",
      "33/33 [==============================] - 0s 2ms/step - loss: 0.2697 - accuracy: 0.8895\n",
      "Epoch 37/50\n",
      "33/33 [==============================] - 0s 2ms/step - loss: 0.2013 - accuracy: 0.9238\n",
      "Epoch 38/50\n",
      "33/33 [==============================] - 0s 2ms/step - loss: 0.1469 - accuracy: 0.9552\n",
      "Epoch 39/50\n",
      "33/33 [==============================] - 0s 2ms/step - loss: 0.2060 - accuracy: 0.9333\n",
      "Epoch 40/50\n",
      "33/33 [==============================] - 0s 2ms/step - loss: 0.3537 - accuracy: 0.8457\n",
      "Epoch 41/50\n",
      "33/33 [==============================] - 0s 2ms/step - loss: 0.1725 - accuracy: 0.9410\n",
      "Epoch 42/50\n",
      "33/33 [==============================] - 0s 2ms/step - loss: 0.1541 - accuracy: 0.9429\n",
      "Epoch 43/50\n",
      "33/33 [==============================] - 0s 2ms/step - loss: 0.3417 - accuracy: 0.8571\n",
      "Epoch 44/50\n",
      "33/33 [==============================] - 0s 2ms/step - loss: 0.2112 - accuracy: 0.9048\n",
      "Epoch 45/50\n",
      "33/33 [==============================] - 0s 2ms/step - loss: 0.1868 - accuracy: 0.9295\n",
      "Epoch 46/50\n",
      "33/33 [==============================] - 0s 2ms/step - loss: 0.1298 - accuracy: 0.9581\n",
      "Epoch 47/50\n",
      "33/33 [==============================] - 0s 2ms/step - loss: 0.1284 - accuracy: 0.9600\n",
      "Epoch 48/50\n",
      "33/33 [==============================] - 0s 2ms/step - loss: 0.1263 - accuracy: 0.9648\n",
      "Epoch 49/50\n",
      "33/33 [==============================] - 0s 2ms/step - loss: 0.1610 - accuracy: 0.9362\n",
      "Epoch 50/50\n",
      "33/33 [==============================] - 0s 2ms/step - loss: 0.1260 - accuracy: 0.9552\n"
     ]
    },
    {
     "data": {
      "text/plain": [
       "<keras.callbacks.History at 0x7fecbc2cded0>"
      ]
     },
     "execution_count": 6,
     "metadata": {},
     "output_type": "execute_result"
    }
   ],
   "source": [
    "# Converting y_mean\n",
    "y_train_mean = to_categorical(y_train_mean)\n",
    "y_test_mean = to_categorical(y_test_mean)\n",
    "# Creating the neural network for mean dataset\n",
    "model_mean = Sequential()\n",
    "model_mean.add(Dense(500, activation='relu', input_shape=(6,)))\n",
    "model_mean.add(Dense(100, activation='relu'))\n",
    "model_mean.add(Dense(50, activation='relu'))\n",
    "model_mean.add(Dense(2, activation='softmax'))\n",
    "model_mean.compile(optimizer='adam', loss='categorical_crossentropy', metrics=['accuracy'])\n",
    "model_mean.fit(X_train_mean, y_train_mean, epochs=50)"
   ]
  },
  {
   "cell_type": "code",
   "execution_count": 7,
   "id": "f9edd6fc",
   "metadata": {
    "execution": {
     "iopub.execute_input": "2023-02-27T16:40:07.902377Z",
     "iopub.status.busy": "2023-02-27T16:40:07.901539Z",
     "iopub.status.idle": "2023-02-27T16:40:08.625887Z",
     "shell.execute_reply": "2023-02-27T16:40:08.623678Z"
    },
    "papermill": {
     "duration": 0.744745,
     "end_time": "2023-02-27T16:40:08.628592",
     "exception": false,
     "start_time": "2023-02-27T16:40:07.883847",
     "status": "completed"
    },
    "tags": []
   },
   "outputs": [
    {
     "name": "stdout",
     "output_type": "stream",
     "text": [
      "33/33 [==============================] - 0s 1ms/step\n",
      "Accuracy on training data: 0.9238095283508301% \n",
      " Error on training data: 0.07619047164916992\n",
      "15/15 [==============================] - 0s 2ms/step\n",
      "Accuracy on test data: 0.9111111164093018% \n",
      " Error on test data: 0.08888888359069824\n"
     ]
    }
   ],
   "source": [
    "pred_train_mean = model_mean.predict(X_train_mean)\n",
    "scores_mean_train = model_mean.evaluate(X_train_mean, y_train_mean, verbose=0)\n",
    "#print(scores_mean_train)\n",
    "print('Accuracy on training data: {}% \\n Error on training data: {}'.format(scores_mean_train[1], 1 - scores_mean_train[1]))\n",
    "pred_test_mean = model_mean.predict(X_test_mean)\n",
    "scores_mean_test = model_mean.evaluate(X_test_mean, y_test_mean, verbose=0)\n",
    "print('Accuracy on test data: {}% \\n Error on test data: {}'.format(scores_mean_test[1], 1 - scores_mean_test[1]))\n"
   ]
  },
  {
   "cell_type": "code",
   "execution_count": 8,
   "id": "d9d3a160",
   "metadata": {
    "execution": {
     "iopub.execute_input": "2023-02-27T16:40:08.664264Z",
     "iopub.status.busy": "2023-02-27T16:40:08.663125Z",
     "iopub.status.idle": "2023-02-27T16:40:14.251301Z",
     "shell.execute_reply": "2023-02-27T16:40:14.250068Z"
    },
    "papermill": {
     "duration": 5.608866,
     "end_time": "2023-02-27T16:40:14.253800",
     "exception": false,
     "start_time": "2023-02-27T16:40:08.644934",
     "status": "completed"
    },
    "tags": []
   },
   "outputs": [
    {
     "name": "stdout",
     "output_type": "stream",
     "text": [
      "Epoch 1/50\n",
      "37/37 [==============================] - 1s 2ms/step - loss: 1.7465 - accuracy: 0.5419\n",
      "Epoch 2/50\n",
      "37/37 [==============================] - 0s 2ms/step - loss: 0.8508 - accuracy: 0.5641\n",
      "Epoch 3/50\n",
      "37/37 [==============================] - 0s 2ms/step - loss: 0.6407 - accuracy: 0.6607\n",
      "Epoch 4/50\n",
      "37/37 [==============================] - 0s 2ms/step - loss: 0.7716 - accuracy: 0.5897\n",
      "Epoch 5/50\n",
      "37/37 [==============================] - 0s 2ms/step - loss: 0.8691 - accuracy: 0.5974\n",
      "Epoch 6/50\n",
      "37/37 [==============================] - 0s 2ms/step - loss: 0.6857 - accuracy: 0.6256\n",
      "Epoch 7/50\n",
      "37/37 [==============================] - 0s 2ms/step - loss: 0.5573 - accuracy: 0.6974\n",
      "Epoch 8/50\n",
      "37/37 [==============================] - 0s 2ms/step - loss: 0.5529 - accuracy: 0.7299\n",
      "Epoch 9/50\n",
      "37/37 [==============================] - 0s 2ms/step - loss: 0.5685 - accuracy: 0.7068\n",
      "Epoch 10/50\n",
      "37/37 [==============================] - 0s 2ms/step - loss: 0.6536 - accuracy: 0.6470\n",
      "Epoch 11/50\n",
      "37/37 [==============================] - 0s 2ms/step - loss: 0.4938 - accuracy: 0.7684\n",
      "Epoch 12/50\n",
      "37/37 [==============================] - 0s 2ms/step - loss: 0.4745 - accuracy: 0.7752\n",
      "Epoch 13/50\n",
      "37/37 [==============================] - 0s 2ms/step - loss: 0.3837 - accuracy: 0.8556\n",
      "Epoch 14/50\n",
      "37/37 [==============================] - 0s 2ms/step - loss: 0.4131 - accuracy: 0.8094\n",
      "Epoch 15/50\n",
      "37/37 [==============================] - 0s 2ms/step - loss: 0.4030 - accuracy: 0.8291\n",
      "Epoch 16/50\n",
      "37/37 [==============================] - 0s 2ms/step - loss: 0.4516 - accuracy: 0.7949\n",
      "Epoch 17/50\n",
      "37/37 [==============================] - 0s 2ms/step - loss: 0.3140 - accuracy: 0.8846\n",
      "Epoch 18/50\n",
      "37/37 [==============================] - 0s 2ms/step - loss: 0.3361 - accuracy: 0.8718\n",
      "Epoch 19/50\n",
      "37/37 [==============================] - 0s 2ms/step - loss: 0.3265 - accuracy: 0.8684\n",
      "Epoch 20/50\n",
      "37/37 [==============================] - 0s 2ms/step - loss: 0.3557 - accuracy: 0.8496\n",
      "Epoch 21/50\n",
      "37/37 [==============================] - 0s 2ms/step - loss: 0.2643 - accuracy: 0.9060\n",
      "Epoch 22/50\n",
      "37/37 [==============================] - 0s 2ms/step - loss: 0.2397 - accuracy: 0.9214\n",
      "Epoch 23/50\n",
      "37/37 [==============================] - 0s 2ms/step - loss: 0.3220 - accuracy: 0.8581\n",
      "Epoch 24/50\n",
      "37/37 [==============================] - 0s 2ms/step - loss: 0.2803 - accuracy: 0.8880\n",
      "Epoch 25/50\n",
      "37/37 [==============================] - 0s 2ms/step - loss: 0.4400 - accuracy: 0.8043\n",
      "Epoch 26/50\n",
      "37/37 [==============================] - 0s 2ms/step - loss: 0.2433 - accuracy: 0.9068\n",
      "Epoch 27/50\n",
      "37/37 [==============================] - 0s 2ms/step - loss: 0.2783 - accuracy: 0.8872\n",
      "Epoch 28/50\n",
      "37/37 [==============================] - 0s 2ms/step - loss: 0.2551 - accuracy: 0.8974\n",
      "Epoch 29/50\n",
      "37/37 [==============================] - 0s 2ms/step - loss: 0.1597 - accuracy: 0.9538\n",
      "Epoch 30/50\n",
      "37/37 [==============================] - 0s 2ms/step - loss: 0.1580 - accuracy: 0.9538\n",
      "Epoch 31/50\n",
      "37/37 [==============================] - 0s 2ms/step - loss: 0.1564 - accuracy: 0.9573\n",
      "Epoch 32/50\n",
      "37/37 [==============================] - 0s 2ms/step - loss: 0.1465 - accuracy: 0.9564\n",
      "Epoch 33/50\n",
      "37/37 [==============================] - 0s 2ms/step - loss: 0.1647 - accuracy: 0.9479\n",
      "Epoch 34/50\n",
      "37/37 [==============================] - 0s 2ms/step - loss: 0.1316 - accuracy: 0.9607\n",
      "Epoch 35/50\n",
      "37/37 [==============================] - 0s 2ms/step - loss: 0.1694 - accuracy: 0.9350\n",
      "Epoch 36/50\n",
      "37/37 [==============================] - 0s 2ms/step - loss: 0.2322 - accuracy: 0.8983\n",
      "Epoch 37/50\n",
      "37/37 [==============================] - 0s 2ms/step - loss: 0.1188 - accuracy: 0.9598\n",
      "Epoch 38/50\n",
      "37/37 [==============================] - 0s 2ms/step - loss: 0.1108 - accuracy: 0.9615\n",
      "Epoch 39/50\n",
      "37/37 [==============================] - 0s 2ms/step - loss: 0.2042 - accuracy: 0.9197\n",
      "Epoch 40/50\n",
      "37/37 [==============================] - 0s 2ms/step - loss: 0.1322 - accuracy: 0.9521\n",
      "Epoch 41/50\n",
      "37/37 [==============================] - 0s 2ms/step - loss: 0.1815 - accuracy: 0.9316\n",
      "Epoch 42/50\n",
      "37/37 [==============================] - 0s 2ms/step - loss: 0.1463 - accuracy: 0.9419\n",
      "Epoch 43/50\n",
      "37/37 [==============================] - 0s 2ms/step - loss: 0.1329 - accuracy: 0.9556\n",
      "Epoch 44/50\n",
      "37/37 [==============================] - 0s 2ms/step - loss: 0.2271 - accuracy: 0.9188\n",
      "Epoch 45/50\n",
      "37/37 [==============================] - 0s 2ms/step - loss: 0.1047 - accuracy: 0.9624\n",
      "Epoch 46/50\n",
      "37/37 [==============================] - 0s 2ms/step - loss: 0.1369 - accuracy: 0.9513\n",
      "Epoch 47/50\n",
      "37/37 [==============================] - 0s 2ms/step - loss: 0.1209 - accuracy: 0.9590\n",
      "Epoch 48/50\n",
      "37/37 [==============================] - 0s 2ms/step - loss: 0.1157 - accuracy: 0.9556\n",
      "Epoch 49/50\n",
      "37/37 [==============================] - 0s 2ms/step - loss: 0.0921 - accuracy: 0.9718\n",
      "Epoch 50/50\n",
      "37/37 [==============================] - 0s 2ms/step - loss: 0.0971 - accuracy: 0.9701\n"
     ]
    },
    {
     "data": {
      "text/plain": [
       "<keras.callbacks.History at 0x7fecaced0810>"
      ]
     },
     "execution_count": 8,
     "metadata": {},
     "output_type": "execute_result"
    }
   ],
   "source": [
    "y_train_dropped = to_categorical(y_train_dropped)\n",
    "y_test_dropped = to_categorical(y_test_dropped)\n",
    "# Creating the neural network for mean dataset\n",
    "model_dropped = Sequential()\n",
    "model_dropped.add(Dense(500, activation='relu', input_shape=(6,)))\n",
    "model_dropped.add(Dense(100, activation='relu'))\n",
    "model_dropped.add(Dense(50, activation='relu'))\n",
    "model_dropped.add(Dense(2, activation='softmax'))\n",
    "model_dropped.compile(optimizer='adam', loss='categorical_crossentropy', metrics=['accuracy'])\n",
    "model_dropped.fit(X_train_dropped, y_train_dropped, epochs=50)"
   ]
  },
  {
   "cell_type": "code",
   "execution_count": 9,
   "id": "bbd0de7b",
   "metadata": {
    "execution": {
     "iopub.execute_input": "2023-02-27T16:40:14.314865Z",
     "iopub.status.busy": "2023-02-27T16:40:14.314082Z",
     "iopub.status.idle": "2023-02-27T16:40:14.794571Z",
     "shell.execute_reply": "2023-02-27T16:40:14.793177Z"
    },
    "papermill": {
     "duration": 0.51388,
     "end_time": "2023-02-27T16:40:14.797888",
     "exception": false,
     "start_time": "2023-02-27T16:40:14.284008",
     "status": "completed"
    },
    "tags": []
   },
   "outputs": [
    {
     "name": "stdout",
     "output_type": "stream",
     "text": [
      "37/37 [==============================] - 0s 1ms/step\n",
      "Accuracy on training data: 0.9170939922332764% \n",
      " Error on training data: 0.08290600776672363\n",
      "10/10 [==============================] - 0s 2ms/step\n",
      "Accuracy on test data: 0.9453924894332886% \n",
      " Error on test data: 0.054607510566711426\n"
     ]
    }
   ],
   "source": [
    "pred_train_dropped = model_mean.predict(X_train_dropped)\n",
    "scores_mean_dropped = model_mean.evaluate(X_train_dropped, y_train_dropped, verbose=0)\n",
    "\n",
    "print('Accuracy on training data: {}% \\n Error on training data: {}'.format(scores_mean_dropped[1], 1 - scores_mean_dropped[1]))\n",
    "pred_test_mean = model_mean.predict(X_test_dropped)\n",
    "scores_dropped_test = model_mean.evaluate(X_test_dropped, y_test_dropped, verbose=0)\n",
    "print('Accuracy on test data: {}% \\n Error on test data: {}'.format(scores_dropped_test[1], 1 - scores_dropped_test[1]))\n"
   ]
  }
 ],
 "metadata": {
  "kernelspec": {
   "display_name": "Python 3",
   "language": "python",
   "name": "python3"
  },
  "language_info": {
   "codemirror_mode": {
    "name": "ipython",
    "version": 3
   },
   "file_extension": ".py",
   "mimetype": "text/x-python",
   "name": "python",
   "nbconvert_exporter": "python",
   "pygments_lexer": "ipython3",
   "version": "3.7.12"
  },
  "papermill": {
   "default_parameters": {},
   "duration": 33.693566,
   "end_time": "2023-02-27T16:40:17.667068",
   "environment_variables": {},
   "exception": null,
   "input_path": "__notebook__.ipynb",
   "output_path": "__notebook__.ipynb",
   "parameters": {},
   "start_time": "2023-02-27T16:39:43.973502",
   "version": "2.4.0"
  }
 },
 "nbformat": 4,
 "nbformat_minor": 5
}
